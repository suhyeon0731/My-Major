{
  "nbformat": 4,
  "nbformat_minor": 0,
  "metadata": {
    "colab": {
      "provenance": [],
      "authorship_tag": "ABX9TyMkZEiXxfz2Butag/VKVZ3k",
      "include_colab_link": true
    },
    "kernelspec": {
      "name": "python3",
      "display_name": "Python 3"
    },
    "language_info": {
      "name": "python"
    }
  },
  "cells": [
    {
      "cell_type": "markdown",
      "metadata": {
        "id": "view-in-github",
        "colab_type": "text"
      },
      "source": [
        "<a href=\"https://colab.research.google.com/github/suhyeon0731/My-Major/blob/main/MyMajor.ipynb\" target=\"_parent\"><img src=\"https://colab.research.google.com/assets/colab-badge.svg\" alt=\"Open In Colab\"/></a>"
      ]
    },
    {
      "cell_type": "markdown",
      "source": [
        "# **Introduce <font color= 'pink'>My Major**\n",
        "\n",
        "## **My major is Police Administration**\n",
        "\n",
        "### 1.무엇을 배우나\n",
        "### 2.어떤 직업을 가질 수 있는가\n",
        "### 3.가장 어려운 과목은 무엇인가\n",
        "\n"
      ],
      "metadata": {
        "id": "9vFXe2bodbDP"
      }
    }
  ]
}