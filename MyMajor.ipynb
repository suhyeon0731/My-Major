{
  "nbformat": 4,
  "nbformat_minor": 0,
  "metadata": {
    "colab": {
      "provenance": [],
      "authorship_tag": "ABX9TyOgEMv5N4ZDkvPyfJq7mrlK",
      "include_colab_link": true
    },
    "kernelspec": {
      "name": "python3",
      "display_name": "Python 3"
    },
    "language_info": {
      "name": "python"
    }
  },
  "cells": [
    {
      "cell_type": "markdown",
      "metadata": {
        "id": "view-in-github",
        "colab_type": "text"
      },
      "source": [
        "<a href=\"https://colab.research.google.com/github/suhyeon0731/My-Major/blob/main/MyMajor.ipynb\" target=\"_parent\"><img src=\"https://colab.research.google.com/assets/colab-badge.svg\" alt=\"Open In Colab\"/></a>"
      ]
    },
    {
      "cell_type": "markdown",
      "source": [
        "# **Introduce <font color= 'pink'>My Major**\n",
        "\n",
        "## **👮 My Major is Police Administration 👮**\n",
        "## If You want to get more information [Click Here](https://www.police.go.kr/index.do)  \n",
        "\n",
        "### **1. What to <font color= 'red'>learn**?\n",
        "- Constitution\n",
        "- Police Administration Law\n",
        "- Criminal Law\n",
        "- Martial Arts\n",
        "\n",
        "### **2. Occupation**\n",
        "- Police Officer\n",
        "- Prison Officer\n",
        "- Public Prosecutor\n",
        "- Judo Player\n",
        "\n",
        "### **3. Summary**\n",
        "| # | Subject | Occupation |\n",
        "|:--:|:--:|:--:|\n",
        "| 1 | Constitution | Police Officer |\n",
        "| 2 | Police Administration Law | Prison Officer |\n",
        "| 3 | Criminal Law | Public Prosecutor |\n",
        "| 4 | Martial Arts | Judo Player |\n",
        "\n"
      ],
      "metadata": {
        "id": "9vFXe2bodbDP"
      }
    }
  ]
}